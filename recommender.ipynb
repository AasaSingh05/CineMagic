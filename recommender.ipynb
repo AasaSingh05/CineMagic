{
 "cells": [
  {
   "cell_type": "code",
   "execution_count": 70,
   "metadata": {},
   "outputs": [],
   "source": [
    "#importing all the necessary modules\n",
    "import numpy as np\n",
    "import pandas as pd\n",
    "from scipy.sparse.linalg import svds\n",
    "from scipy.sparse import csr_matrix\n",
    "from sklearn.feature_extraction.text import TfidfVectorizer\n",
    "from sklearn.metrics.pairwise import cosine_similarity\n",
    "from sklearn.metrics import mean_squared_error"
   ]
  },
  {
   "cell_type": "code",
   "execution_count": 71,
   "metadata": {},
   "outputs": [],
   "source": [
    "#to import all the csv files\n",
    "rating = pd.read_csv(\"ratings.csv\")\n",
    "movies = pd.read_csv(\"movies.csv\")"
   ]
  },
  {
   "cell_type": "code",
   "execution_count": 72,
   "metadata": {},
   "outputs": [
    {
     "name": "stdout",
     "output_type": "stream",
     "text": [
      "   userId  movieId  rating  timestamp\n",
      "0       1        1     4.0  964982703\n",
      "1       1        3     4.0  964981247\n",
      "2       1        6     4.0  964982224\n",
      "3       1       47     5.0  964983815\n",
      "4       1       50     5.0  964982931\n",
      "   movieId                               title  \\\n",
      "0        1                    Toy Story (1995)   \n",
      "1        2                      Jumanji (1995)   \n",
      "2        3             Grumpier Old Men (1995)   \n",
      "3        4            Waiting to Exhale (1995)   \n",
      "4        5  Father of the Bride Part II (1995)   \n",
      "\n",
      "                                        genres  \n",
      "0  Adventure|Animation|Children|Comedy|Fantasy  \n",
      "1                   Adventure|Children|Fantasy  \n",
      "2                               Comedy|Romance  \n",
      "3                         Comedy|Drama|Romance  \n",
      "4                                       Comedy  \n"
     ]
    }
   ],
   "source": [
    "#to check if the import is proper by printing\n",
    "print(rating.head())\n",
    "print(movies.head())"
   ]
  },
  {
   "cell_type": "code",
   "execution_count": 73,
   "metadata": {},
   "outputs": [],
   "source": [
    "#merges the data based on the entries in column MovieId\n",
    "totdata = pd.merge(rating, movies, on='movieId')\n",
    "#print(totdata.head())"
   ]
  },
  {
   "cell_type": "code",
   "execution_count": 74,
   "metadata": {},
   "outputs": [
    {
     "name": "stdout",
     "output_type": "stream",
     "text": [
      "title   '71 (2014)  'Hellboy': The Seeds of Creation (2004)  \\\n",
      "userId                                                        \n",
      "1              0.0                                      0.0   \n",
      "2              0.0                                      0.0   \n",
      "3              0.0                                      0.0   \n",
      "4              0.0                                      0.0   \n",
      "5              0.0                                      0.0   \n",
      "...            ...                                      ...   \n",
      "606            0.0                                      0.0   \n",
      "607            0.0                                      0.0   \n",
      "608            0.0                                      0.0   \n",
      "609            0.0                                      0.0   \n",
      "610            4.0                                      0.0   \n",
      "\n",
      "title   'Round Midnight (1986)  'Salem's Lot (2004)  \\\n",
      "userId                                                \n",
      "1                          0.0                  0.0   \n",
      "2                          0.0                  0.0   \n",
      "3                          0.0                  0.0   \n",
      "4                          0.0                  0.0   \n",
      "5                          0.0                  0.0   \n",
      "...                        ...                  ...   \n",
      "606                        0.0                  0.0   \n",
      "607                        0.0                  0.0   \n",
      "608                        0.0                  0.0   \n",
      "609                        0.0                  0.0   \n",
      "610                        0.0                  0.0   \n",
      "\n",
      "title   'Til There Was You (1997)  'Tis the Season for Love (2015)  \\\n",
      "userId                                                               \n",
      "1                             0.0                              0.0   \n",
      "2                             0.0                              0.0   \n",
      "3                             0.0                              0.0   \n",
      "4                             0.0                              0.0   \n",
      "5                             0.0                              0.0   \n",
      "...                           ...                              ...   \n",
      "606                           0.0                              0.0   \n",
      "607                           0.0                              0.0   \n",
      "608                           0.0                              0.0   \n",
      "609                           0.0                              0.0   \n",
      "610                           0.0                              0.0   \n",
      "\n",
      "title   'burbs, The (1989)  'night Mother (1986)  (500) Days of Summer (2009)  \\\n",
      "userId                                                                          \n",
      "1                      0.0                   0.0                          0.0   \n",
      "2                      0.0                   0.0                          0.0   \n",
      "3                      0.0                   0.0                          0.0   \n",
      "4                      0.0                   0.0                          0.0   \n",
      "5                      0.0                   0.0                          0.0   \n",
      "...                    ...                   ...                          ...   \n",
      "606                    0.0                   0.0                          0.0   \n",
      "607                    0.0                   0.0                          0.0   \n",
      "608                    0.0                   0.0                          0.0   \n",
      "609                    0.0                   0.0                          0.0   \n",
      "610                    0.0                   0.0                          3.5   \n",
      "\n",
      "title   *batteries not included (1987)  ...  Zulu (2013)  [REC] (2007)  \\\n",
      "userId                                  ...                              \n",
      "1                                  0.0  ...          0.0           0.0   \n",
      "2                                  0.0  ...          0.0           0.0   \n",
      "3                                  0.0  ...          0.0           0.0   \n",
      "4                                  0.0  ...          0.0           0.0   \n",
      "5                                  0.0  ...          0.0           0.0   \n",
      "...                                ...  ...          ...           ...   \n",
      "606                                0.0  ...          0.0           0.0   \n",
      "607                                0.0  ...          0.0           0.0   \n",
      "608                                0.0  ...          0.0           0.0   \n",
      "609                                0.0  ...          0.0           0.0   \n",
      "610                                0.0  ...          0.0           4.0   \n",
      "\n",
      "title   [REC]² (2009)  [REC]³ 3 Génesis (2012)  \\\n",
      "userId                                           \n",
      "1                 0.0                      0.0   \n",
      "2                 0.0                      0.0   \n",
      "3                 0.0                      0.0   \n",
      "4                 0.0                      0.0   \n",
      "5                 0.0                      0.0   \n",
      "...               ...                      ...   \n",
      "606               0.0                      0.0   \n",
      "607               0.0                      0.0   \n",
      "608               0.0                      0.0   \n",
      "609               0.0                      0.0   \n",
      "610               3.5                      3.0   \n",
      "\n",
      "title   anohana: The Flower We Saw That Day - The Movie (2013)  \\\n",
      "userId                                                           \n",
      "1                                                     0.0        \n",
      "2                                                     0.0        \n",
      "3                                                     0.0        \n",
      "4                                                     0.0        \n",
      "5                                                     0.0        \n",
      "...                                                   ...        \n",
      "606                                                   0.0        \n",
      "607                                                   0.0        \n",
      "608                                                   0.0        \n",
      "609                                                   0.0        \n",
      "610                                                   0.0        \n",
      "\n",
      "title   eXistenZ (1999)  xXx (2002)  xXx: State of the Union (2005)  \\\n",
      "userId                                                                \n",
      "1                   0.0         0.0                             0.0   \n",
      "2                   0.0         0.0                             0.0   \n",
      "3                   0.0         0.0                             0.0   \n",
      "4                   0.0         0.0                             0.0   \n",
      "5                   0.0         0.0                             0.0   \n",
      "...                 ...         ...                             ...   \n",
      "606                 0.0         0.0                             0.0   \n",
      "607                 0.0         0.0                             0.0   \n",
      "608                 4.5         3.5                             0.0   \n",
      "609                 0.0         0.0                             0.0   \n",
      "610                 0.0         2.0                             1.5   \n",
      "\n",
      "title   ¡Three Amigos! (1986)  À nous la liberté (Freedom for Us) (1931)  \n",
      "userId                                                                    \n",
      "1                         4.0                                        0.0  \n",
      "2                         0.0                                        0.0  \n",
      "3                         0.0                                        0.0  \n",
      "4                         0.0                                        0.0  \n",
      "5                         0.0                                        0.0  \n",
      "...                       ...                                        ...  \n",
      "606                       0.0                                        0.0  \n",
      "607                       0.0                                        0.0  \n",
      "608                       0.0                                        0.0  \n",
      "609                       0.0                                        0.0  \n",
      "610                       0.0                                        0.0  \n",
      "\n",
      "[610 rows x 9719 columns]\n"
     ]
    }
   ],
   "source": [
    "#making a pivot table\n",
    "UserPivotTable = pd.pivot_table(totdata, index='userId', columns='title', values='rating', fill_value=0)\n",
    "print(UserPivotTable)"
   ]
  },
  {
   "cell_type": "code",
   "execution_count": 75,
   "metadata": {},
   "outputs": [
    {
     "data": {
      "text/plain": [
       "'\\n- We use the tf-idf vectorization to convert the genres of the various movies into numerical values\\n- we calcuate how close the values are using cosine similarity (can use k means clustering too tho na? would work or not?)\\n- We recommend the movie based on how close the movie is to current movie\\n'"
      ]
     },
     "execution_count": 75,
     "metadata": {},
     "output_type": "execute_result"
    }
   ],
   "source": [
    "#recommendation algorithm\n",
    "'''\n",
    "- We use the tf-idf vectorization to convert the genres of the various movies into numerical values\n",
    "- we calcuate how close the values are using cosine similarity (can use k means clustering too tho na? would work or not?)\n",
    "- We recommend the movie based on how close the movie is to current movie\n",
    "'''"
   ]
  },
  {
   "cell_type": "code",
   "execution_count": 76,
   "metadata": {},
   "outputs": [],
   "source": [
    "#performing the TF-IDF vectorization of all the genres in movies\n",
    "tfidf = TfidfVectorizer(stop_words='english')\n",
    "movies['genres'] = movies['genres'].fillna('')\n",
    "tfidf_mat = tfidf.fit_transform(movies['genres'])\n"
   ]
  },
  {
   "cell_type": "code",
   "execution_count": 77,
   "metadata": {},
   "outputs": [
    {
     "name": "stdout",
     "output_type": "stream",
     "text": [
      "[[1.         0.81357774 0.15276924 ... 0.         0.4210373  0.26758648]\n",
      " [0.81357774 1.         0.         ... 0.         0.         0.        ]\n",
      " [0.15276924 0.         1.         ... 0.         0.         0.57091541]\n",
      " ...\n",
      " [0.         0.         0.         ... 1.         0.         0.        ]\n",
      " [0.4210373  0.         0.         ... 0.         1.         0.        ]\n",
      " [0.26758648 0.         0.57091541 ... 0.         0.         1.        ]]\n"
     ]
    }
   ],
   "source": [
    "#performing the cosine similarity\\\n",
    "#for the simillarity between the tfidf matrices \n",
    "cosineSim = cosine_similarity(tfidf_mat, tfidf_mat)\n",
    "print(cosineSim)"
   ]
  },
  {
   "cell_type": "code",
   "execution_count": 78,
   "metadata": {},
   "outputs": [
    {
     "name": "stdout",
     "output_type": "stream",
     "text": [
      "[[1.         0.02728287 0.05972026 ... 0.29109737 0.09357193 0.14532081]\n",
      " [0.02728287 1.         0.         ... 0.04621095 0.0275654  0.10242675]\n",
      " [0.05972026 0.         1.         ... 0.02112846 0.         0.03211875]\n",
      " ...\n",
      " [0.29109737 0.04621095 0.02112846 ... 1.         0.12199271 0.32205486]\n",
      " [0.09357193 0.0275654  0.         ... 0.12199271 1.         0.05322546]\n",
      " [0.14532081 0.10242675 0.03211875 ... 0.32205486 0.05322546 1.        ]]\n"
     ]
    }
   ],
   "source": [
    "#for performing the similarity between the users itself\n",
    "UserSim = cosine_similarity(UserPivotTable.fillna(0))\n",
    "print(UserSim)"
   ]
  },
  {
   "cell_type": "code",
   "execution_count": 79,
   "metadata": {},
   "outputs": [],
   "source": [
    "#converting the given pivot matrix into a sparse matrix as it is of large size and is of mostly zeros\n",
    "UserSparseMat = csr_matrix(UserPivotTable.values)"
   ]
  },
  {
   "cell_type": "code",
   "execution_count": 80,
   "metadata": {},
   "outputs": [],
   "source": [
    "#using the sparse matrix we can perform the svd to get our components \n",
    "u, sigma, vtranspose = svds(UserSparseMat, k=50)\n",
    "sigma = np.diag(sigma)\n"
   ]
  },
  {
   "cell_type": "code",
   "execution_count": 81,
   "metadata": {},
   "outputs": [
    {
     "name": "stdout",
     "output_type": "stream",
     "text": [
      "[[-6.92873637e-02  1.87668108e-02 -4.28949139e-02 ... -1.87782264e-01\n",
      "   1.50037535e+00  3.34632090e-02]\n",
      " [-2.86782837e-02 -1.20149084e-02 -1.07852546e-02 ... -1.02054894e-02\n",
      "   5.66087362e-02 -3.67801466e-04]\n",
      " [ 1.74872101e-02  1.23869158e-03  4.90684906e-03 ...  8.86581055e-03\n",
      "   5.27317419e-02  3.76147903e-03]\n",
      " ...\n",
      " [ 1.27096406e-03 -8.19546796e-02 -5.69910637e-02 ...  2.31730054e-02\n",
      "   5.37805707e-01  1.74674416e-02]\n",
      " [-2.22592510e-03  5.34112987e-03  5.61299748e-03 ...  2.47015214e-02\n",
      "   2.31089246e-02 -3.79650636e-03]\n",
      " [ 3.87914228e+00 -2.45434938e-02 -2.53885265e-02 ...  1.42288530e+00\n",
      "  -2.58587981e-01  9.69463724e-03]]\n"
     ]
    }
   ],
   "source": [
    "#reconstructing the matrix with the new sigma to ensure we can use the predictions\n",
    "PredictedRating = np.dot(np.dot(u, sigma), vtranspose)\n",
    "print(PredictedRating)"
   ]
  },
  {
   "cell_type": "code",
   "execution_count": null,
   "metadata": {},
   "outputs": [],
   "source": [
    "#building the actual recommendation function \n",
    "def Get_Recommendations(title, cosine_sim = cosineSim):\n",
    "    # Check if the title exists\n",
    "    if title not in movies['title'].values:\n",
    "        print(f\"Movie '{title}' not found in the dataset.\")\n",
    "        return\n",
    "    \n",
    "    #get the id of movies with the title provided\n",
    "    ids = movies[movies['title'] == title].index[0]\n",
    "    \n",
    "    #we make a sim score of all the ids with the same id using the cosine_sim function\n",
    "    sim_score = list(enumerate(cosine_sim[ids]))\n",
    "    \n",
    "    #sorting the scores in non-increasing order\n",
    "    sim_score = sorted(sim_score, key=lambda x : x[1], reverse=True)\n",
    "    \n",
    "    #we take the first 10 recommendations based on the sim score\n",
    "    sim_score = sim_score[1:11]\n",
    "    \n",
    "    #we iterate through all the movie names \n",
    "    movies_ind = [i[0] for i in sim_score]\n",
    "    \n",
    "    #checking the indeces\n",
    "    #print(movies_ind)\n",
    "    \n",
    "    #recommendations which are written in a list\n",
    "    recs = movies['title'].iloc[movies_ind].values\n",
    "    \n",
    "    #printing all the top recommendations\n",
    "    print(f\"Recommendations are : \\n\")\n",
    "    for name in recs:\n",
    "        print(name)"
   ]
  },
  {
   "cell_type": "code",
   "execution_count": 85,
   "metadata": {},
   "outputs": [
    {
     "name": "stdout",
     "output_type": "stream",
     "text": [
      "[1706, 2355, 2809, 3000, 3568, 6194, 6486, 6948, 7760, 8219]\n",
      "Recommendations are : \n",
      "\n",
      "Antz (1998)\n",
      "Toy Story 2 (1999)\n",
      "Adventures of Rocky and Bullwinkle, The (2000)\n",
      "Emperor's New Groove, The (2000)\n",
      "Monsters, Inc. (2001)\n",
      "Wild, The (2006)\n",
      "Shrek the Third (2007)\n",
      "Tale of Despereaux, The (2008)\n",
      "Asterix and the Vikings (Astérix et les Vikings) (2006)\n",
      "Turbo (2013)\n"
     ]
    }
   ],
   "source": [
    "#Taking the inputs from the user\n",
    "MovName = str(input(\"Enter name of the film you already like: \"))\n",
    "MovYear = str(input(\"Enter the year of the film's release: \"))\n",
    "\n",
    "#making the proper input for the recommendation algo\n",
    "fullMovieName = MovName + \" (\" + MovYear + \")\"\n",
    "\n",
    "#Using the aformentioned recommender\n",
    "Get_Recommendations(fullMovieName)\n"
   ]
  }
 ],
 "metadata": {
  "kernelspec": {
   "display_name": "Python 3",
   "language": "python",
   "name": "python3"
  },
  "language_info": {
   "codemirror_mode": {
    "name": "ipython",
    "version": 3
   },
   "file_extension": ".py",
   "mimetype": "text/x-python",
   "name": "python",
   "nbconvert_exporter": "python",
   "pygments_lexer": "ipython3",
   "version": "3.12.6"
  }
 },
 "nbformat": 4,
 "nbformat_minor": 2
}
